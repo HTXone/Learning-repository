{
 "cells": [
  {
   "cell_type": "code",
   "execution_count": 1,
   "metadata": {},
   "outputs": [],
   "source": [
    "#批量归一层\n",
    "import d2lzh as d2l\n",
    "from mxnet import autograd,gluon,init,nd\n",
    "from mxnet.gluon import nn\n",
    "def batch_norm(X,gamma,beta,moving_mean,moving_var,eps,momentum):\n",
    "    #autograd判断当前模式为训练模式还是测试模式\n",
    "    if not autograd.is_training():\n",
    "        # 如果是在预测模式下，直接使⽤传⼊的移动平均所得的均值和⽅差\n",
    "        X_hat = (X - moving_mean) / nd.sqrt(moving_var + eps)\n",
    "    else:\n",
    "        assert len(X.shape) in (2,4)\n",
    "        if len(X.shape) == 2:\n",
    "            # 使⽤全连接层的情况，计算特征维上的均值和⽅差\n",
    "            mean = X.mean(axis=0)\n",
    "            var = ((X - mean) ** 2).mean(axis=0)\n",
    "        else:\n",
    "            # 使⽤⼆维卷积层的情况，计算通道维上（axis=1）的均值和⽅差。这⾥我们需要保持\n",
    "            # X的形状以便后⾯可以做⼴播运算\n",
    "            mean = X.mean(axis=(0, 2, 3), keepdims=True)\n",
    "            var = ((X - mean) ** 2).mean(axis=(0, 2, 3), keepdims=True)\n",
    "        # 训练模式下⽤当前的均值和⽅差做标准化\n",
    "        X_hat = (X - mean) / nd.sqrt(var + eps)\n",
    "        # 更新移动平均的均值和⽅差\n",
    "        moving_mean = momentum * moving_mean + (1.0 - momentum) * mean\n",
    "        moving_var = momentum * moving_var + (1.0 - momentum) * var    \n",
    "    Y = gamma * X_hat + beta # 拉伸和偏移\n",
    "    return Y, moving_mean, moving_var\n",
    "\n"
   ]
  },
  {
   "cell_type": "code",
   "execution_count": 2,
   "metadata": {},
   "outputs": [],
   "source": [
    "class BatchNorm(nn.Block):\n",
    "    def __init__(self,num_features,num_dims,**kwargs):\n",
    "        super(BatchNorm,self).__init__(**kwargs)\n",
    "        if num_dims == 2:\n",
    "            shape = (1,num_features)\n",
    "        else:\n",
    "            shape = (1,num_features,1,1)\n",
    "        #参与求梯度和迭代的拉伸和偏移参数，分别初始化为1和0\n",
    "        self.gamma = self.params.get('gamma',shape=shape,init = init.One())\n",
    "        self.beta = self.params.get('beta',shape=shape,init=init.Zero())\n",
    "        #不参与求梯度和迭代的变量全初始化为0\n",
    "        self.moving_mean = nd.zeros(shape)\n",
    "        self.moving_var = nd.zeros(shape)\n",
    "        \n",
    "    def forward(self,X):\n",
    "        #显存复制\n",
    "        if self.moving_mean.context != X.context:\n",
    "            self.moving_mean = self.moving_mean.copyto(X.context)\n",
    "            self.moving_var = self.moving_var.copyto(X.context)\n",
    "        #保存\n",
    "        Y,self.moving_mean,self.moving_var = batch_norm(X,self.gamma.data(),self.beta.data(),\n",
    "                                                       self.moving_mean,self.moving_var,eps=1e-5,momentum=0.9)\n",
    "        return Y\n",
    "    "
   ]
  },
  {
   "cell_type": "code",
   "execution_count": 4,
   "metadata": {},
   "outputs": [],
   "source": [
    "net = nn.Sequential()\n",
    "net.add(nn.Conv2D(6,kernel_size=5),\n",
    "        BatchNorm(6,num_dims=4),\n",
    "        nn.Activation('sigmoid'),\n",
    "       nn.MaxPool2D(pool_size=2,strides=2),\n",
    "       nn.Conv2D(16,kernel_size=5),\n",
    "       BatchNorm(16,num_dims=4),\n",
    "       nn.Activation('sigmoid'),\n",
    "       nn.MaxPool2D(pool_size=2,strides=2),\n",
    "       nn.Dense(120),\n",
    "       BatchNorm(120,num_dims=2),\n",
    "       nn.Activation('sigmoid'),\n",
    "        nn.Dense(84),\n",
    "        BatchNorm(84, num_dims=2),\n",
    "        nn.Activation('sigmoid'),\n",
    "        nn.Dense(10))"
   ]
  },
  {
   "cell_type": "code",
   "execution_count": 5,
   "metadata": {},
   "outputs": [
    {
     "name": "stdout",
     "output_type": "stream",
     "text": [
      "training on gpu(0)\n",
      "epoch 1, loss 0.6659, train acc 0.762, test acc 0.811, time 7.6 sec\n",
      "epoch 2, loss 0.3903, train acc 0.860, test acc 0.833, time 6.6 sec\n",
      "epoch 3, loss 0.3462, train acc 0.874, test acc 0.833, time 6.7 sec\n",
      "epoch 4, loss 0.3180, train acc 0.884, test acc 0.822, time 6.6 sec\n",
      "epoch 5, loss 0.3029, train acc 0.890, test acc 0.886, time 6.6 sec\n"
     ]
    }
   ],
   "source": [
    "lr, num_epochs, batch_size, ctx = 1.0, 5, 256, d2l.try_gpu()\n",
    "net.initialize(ctx=ctx, init=init.Xavier())\n",
    "trainer = gluon.Trainer(net.collect_params(), 'sgd', {'learning_rate': lr})\n",
    "train_iter, test_iter = d2l.load_data_fashion_mnist(batch_size)\n",
    "d2l.train_ch5(net, train_iter, test_iter, batch_size, trainer, ctx,\n",
    "num_epochs)"
   ]
  },
  {
   "cell_type": "code",
   "execution_count": 9,
   "metadata": {},
   "outputs": [
    {
     "name": "stdout",
     "output_type": "stream",
     "text": [
      "\n",
      "[2.1301334 1.5873271 1.5992993 1.588231  1.0599676 1.3605769]\n",
      "<NDArray 6 @gpu(0)> \n",
      "[ 1.361746    0.04332499  0.22823651  0.850483   -0.69039077 -1.5197439 ]\n",
      "<NDArray 6 @gpu(0)>\n"
     ]
    }
   ],
   "source": [
    "print(net[1].gamma.data().reshape((-1,)),net[1].beta.data().reshape((-1,)))"
   ]
  },
  {
   "cell_type": "code",
   "execution_count": 10,
   "metadata": {},
   "outputs": [],
   "source": [
    "#Gluon 简洁实现，自动延后初始化获取特征和维度参数\n",
    "net = nn.Sequential()\n",
    "net.add(nn.Conv2D(6, kernel_size=5),\n",
    "        nn.BatchNorm(),\n",
    "        nn.Activation('sigmoid'),\n",
    "        nn.MaxPool2D(pool_size=2, strides=2),\n",
    "        nn.Conv2D(16, kernel_size=5),\n",
    "        nn.BatchNorm(),\n",
    "        nn.Activation('sigmoid'),\n",
    "        nn.MaxPool2D(pool_size=2, strides=2),\n",
    "        nn.Dense(120),\n",
    "        nn.BatchNorm(),\n",
    "        nn.Activation('sigmoid'),\n",
    "        nn.Dense(84),\n",
    "        nn.BatchNorm(),\n",
    "        nn.Activation('sigmoid'),\n",
    "        nn.Dense(10))"
   ]
  },
  {
   "cell_type": "code",
   "execution_count": 11,
   "metadata": {},
   "outputs": [
    {
     "name": "stdout",
     "output_type": "stream",
     "text": [
      "training on gpu(0)\n",
      "epoch 1, loss 0.6467, train acc 0.773, test acc 0.853, time 5.3 sec\n",
      "epoch 2, loss 0.3973, train acc 0.856, test acc 0.860, time 4.8 sec\n",
      "epoch 3, loss 0.3500, train acc 0.873, test acc 0.859, time 4.9 sec\n",
      "epoch 4, loss 0.3220, train acc 0.884, test acc 0.860, time 4.9 sec\n",
      "epoch 5, loss 0.3033, train acc 0.890, test acc 0.873, time 4.8 sec\n"
     ]
    }
   ],
   "source": [
    "net.initialize(ctx=ctx, init=init.Xavier())\n",
    "trainer = gluon.Trainer(net.collect_params(), 'sgd', {'learning_rate': lr})\n",
    "d2l.train_ch5(net, train_iter, test_iter, batch_size, trainer, ctx,\n",
    "                num_epochs)"
   ]
  },
  {
   "cell_type": "code",
   "execution_count": null,
   "metadata": {},
   "outputs": [],
   "source": []
  }
 ],
 "metadata": {
  "kernelspec": {
   "display_name": "Python 3",
   "language": "python",
   "name": "python3"
  },
  "language_info": {
   "codemirror_mode": {
    "name": "ipython",
    "version": 3
   },
   "file_extension": ".py",
   "mimetype": "text/x-python",
   "name": "python",
   "nbconvert_exporter": "python",
   "pygments_lexer": "ipython3",
   "version": "3.7.3"
  }
 },
 "nbformat": 4,
 "nbformat_minor": 2
}
