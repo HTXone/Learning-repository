{
 "cells": [
  {
   "cell_type": "code",
   "execution_count": 1,
   "metadata": {},
   "outputs": [],
   "source": [
    "import d2lzh as d2l\n",
    "import math\n",
    "from mxnet import autograd,gluon,init,nd\n",
    "from mxnet.gluon import loss as gloss,nn,rnn\n",
    "import time\n",
    "import zipfile\n",
    "\n",
    "\n",
    "#(corpus_indices,char_to_idx,idx_to_char,vocab_size) = d2l.load_data_jay_lyrics()\n",
    "def load_data_jay_lyrics():\n",
    "    \"\"\"Load the Jay Chou lyric data set (available in the Chinese book).\"\"\"\n",
    "    with zipfile.ZipFile('./data/jaychou_lyrics.txt.zip') as zin:\n",
    "        with zin.open('jaychou_lyrics.txt') as f:\n",
    "            corpus_chars = f.read().decode('utf-8')\n",
    "    corpus_chars = corpus_chars.replace('\\n', ' ').replace('\\r', ' ')\n",
    "    corpus_chars = corpus_chars[0:10000]\n",
    "    idx_to_char = list(set(corpus_chars))\n",
    "    char_to_idx = dict([(char, i) for i, char in enumerate(idx_to_char)])\n",
    "    vocab_size = len(char_to_idx)\n",
    "    corpus_indices = [char_to_idx[char] for char in corpus_chars]\n",
    "    return corpus_indices, char_to_idx, idx_to_char, vocab_size\n",
    "\n",
    "(corpus_indices,char_to_idx,idx_to_char,vocab_size) = load_data_jay_lyrics()"
   ]
  },
  {
   "cell_type": "code",
   "execution_count": 2,
   "metadata": {},
   "outputs": [],
   "source": [
    "num_hiddens = 256\n",
    "rnn_layer = rnn.RNN(num_hiddens)\n",
    "rnn_layer.initialize()\n"
   ]
  },
  {
   "cell_type": "code",
   "execution_count": 3,
   "metadata": {},
   "outputs": [
    {
     "data": {
      "text/plain": [
       "(1, 2, 256)"
      ]
     },
     "execution_count": 3,
     "metadata": {},
     "output_type": "execute_result"
    }
   ],
   "source": [
    "batch_size = 2\n",
    "state = rnn_layer.begin_state(batch_size=batch_size)\n",
    "state[0].shape\n"
   ]
  },
  {
   "cell_type": "code",
   "execution_count": 4,
   "metadata": {},
   "outputs": [
    {
     "data": {
      "text/plain": [
       "((35, 2, 256), 1, (1, 2, 256))"
      ]
     },
     "execution_count": 4,
     "metadata": {},
     "output_type": "execute_result"
    }
   ],
   "source": [
    "num_steps = 35\n",
    "X = nd.random.uniform(shape=(num_steps,batch_size,vocab_size))\n",
    "Y,state_new = rnn_layer(X,state)\n",
    "Y.shape,len(state_new),state_new[0].shape\n"
   ]
  },
  {
   "cell_type": "code",
   "execution_count": 9,
   "metadata": {},
   "outputs": [],
   "source": [
    "class RNNModel(nn.Block):\n",
    "    def __init__(self,rnn_layer,vocab_size,**kwargs):\n",
    "        super(RNNModel,self).__init__(**kwargs)\n",
    "        self.rnn = rnn_layer\n",
    "        self.vocab_size = vocab_size\n",
    "        self.dense = nn.Dense(vocab_size)\n",
    "        \n",
    "    def forward(self,inputs,state):\n",
    "        #将输⼊转置成(num_steps, batch_size)后获取one-hot向量表⽰\n",
    "        X = nd.one_hot(inputs.T,self.vocab_size)\n",
    "        Y,state = self.rnn(X,state)\n",
    "        # 全连接层会⾸先将Y的形状变成(num_steps * batch_size, num_hiddens)，它的输出\n",
    "        # 形状为(num_steps * batch_size, vocab_size)\n",
    "        output = self.dense(Y.reshape((-1,Y.shape[-1])))\n",
    "        return output,state\n",
    "    \n",
    "    def begin_state(self,*args,**kwargs):\n",
    "        return self.rnn.begin_state(*args,**kwargs)\n",
    "    \n"
   ]
  },
  {
   "cell_type": "code",
   "execution_count": 14,
   "metadata": {},
   "outputs": [],
   "source": [
    "def predict_rnn_gluon(prefix,num_chars,model,vocab_size,ctx,idx_to_char,char_to_idx):\n",
    "    #使用model成员函数来初始化隐藏状态\n",
    "    state = model.begin_state(batch_size=1,ctx=ctx)\n",
    "    output = [char_to_idx[prefix[0]]]\n",
    "    for t in range(num_chars+len(prefix)-1):\n",
    "        X = nd.array([output[-1]],ctx=ctx).reshape((1,1))\n",
    "        (Y,state) = model(X,state)\n",
    "        if t < len(prefix) -1 :\n",
    "            output.append(char_to_idx[prefix[t+1]])\n",
    "        else:\n",
    "            output.append(int(Y.argmax(axis=1).asscalar()))\n",
    "    return ''.join([idx_to_char[i] for i in output])"
   ]
  },
  {
   "cell_type": "code",
   "execution_count": 15,
   "metadata": {},
   "outputs": [
    {
     "data": {
      "text/plain": [
       "'你好鳅板黑祭罩伊题清榉拥'"
      ]
     },
     "execution_count": 15,
     "metadata": {},
     "output_type": "execute_result"
    }
   ],
   "source": [
    "ctx = d2l.try_gpu()\n",
    "model = RNNModel(rnn_layer,vocab_size)\n",
    "model.initialize(force_reinit=True,ctx = ctx)\n",
    "predict_rnn_gluon('你好',10,model,vocab_size,ctx,idx_to_char,char_to_idx)"
   ]
  },
  {
   "cell_type": "code",
   "execution_count": 23,
   "metadata": {},
   "outputs": [],
   "source": [
    "def train_and_predict_rnn_gluon(model,num_hiddens,vocab_size,ctx,corpus_indices,idx_to_char,char_to_idx,num_epochs,\n",
    "                                num_steps,lr,clipping_theta,batch_size,pred_period,pred_len,prefixes):\n",
    "    loss = gloss.SoftmaxCrossEntropyLoss()\n",
    "    model.initialize(ctx=ctx,force_reinit = True,init = init.Normal(0.01))\n",
    "    trainer = gluon.Trainer(model.collect_params(),'sgd',{'learning_rate':lr,'momentum':0,'wd':0})\n",
    "    for epoch in range(num_epochs):\n",
    "        l_sum,n,start = 0.0,0,time.time()\n",
    "        data_iter = d2l.data_iter_consecutive(corpus_indices,batch_size,num_epochs,ctx = ctx)\n",
    "        state = model.begin_state(batch_size=batch_size, ctx=ctx)\n",
    "\n",
    "        for X,Y in data_iter:\n",
    "            for s in state:\n",
    "                s.detach()\n",
    "            with autograd.record():\n",
    "                (output,state) = model(X,state)\n",
    "                y = Y.T.reshape((-1,))\n",
    "                l = loss(output,y).mean()\n",
    "            l.backward()\n",
    "            \n",
    "            params = [p.data() for p in model.collect_params().values()]\n",
    "            d2l.grad_clipping(params, clipping_theta, ctx)\n",
    "            trainer.step(1) # 因为已经误差取过均值，梯度不⽤再做平均\n",
    "            l_sum += l.asscalar() * y.size\n",
    "            n += y.size\n",
    "\n",
    "            if (epoch + 1) % pred_period == 0:\n",
    "                print('epoch %d, perplexity %f, time %.2f sec' % (\n",
    "                    epoch + 1, math.exp(l_sum / n), time.time() - start))\n",
    "                for prefix in prefixes:\n",
    "                    print(' -', predict_rnn_gluon(\n",
    "                            prefix, pred_len, model, vocab_size, ctx, idx_to_char,\n",
    "                            char_to_idx))"
   ]
  },
  {
   "cell_type": "code",
   "execution_count": 25,
   "metadata": {},
   "outputs": [
    {
     "name": "stdout",
     "output_type": "stream",
     "text": [
      "epoch 50, perplexity 315.028508, time 0.03 sec\n",
      " - 你好                                                  \n",
      " - 为什么                                                  \n",
      "epoch 100, perplexity 255.184776, time 0.03 sec\n",
      " - 你好 我不的我我不 我不的我我不 我不的我我不 我不的我我不 我不的我我不 我不的我我不 我不的我我不 \n",
      " - 为什么我的 我不的我我不 我不的我我不 我不的我我不 我不的我我不 我不的我我不 我不的我我不 我不的我我\n",
      "epoch 150, perplexity 206.847568, time 0.03 sec\n",
      " - 你好 我                                                \n",
      " - 为什么 我不                                               \n",
      "epoch 200, perplexity 153.989850, time 0.03 sec\n",
      " - 你好 我想人 一子  我 我 你                                    \n",
      " - 为什么  我有  我 我 你                                       \n",
      "epoch 250, perplexity 118.996346, time 0.03 sec\n",
      " - 你好 我不多的可爱女人 坏知的让我疯狂的可爱女人 坏柔的让我疯狂的可爱女人 坏柔的让我疯狂的可爱女人 坏\n",
      " - 为什么 我想你的爱写 一知的让我疯狂的可爱女人 坏柔的让我疯狂的可爱女人 坏柔的让我疯狂的可爱女人 坏柔的\n"
     ]
    }
   ],
   "source": [
    "num_epochs, batch_size, lr, clipping_theta = 250, 32, 1e2, 1e-2\n",
    "pred_period, pred_len, prefixes = 50, 50, ['你好', '为什么']\n",
    "train_and_predict_rnn_gluon(model, num_hiddens, vocab_size, ctx,\n",
    "                            corpus_indices, idx_to_char, char_to_idx,\n",
    "                            num_epochs, num_steps, lr, clipping_theta,\n",
    "                            batch_size, pred_period, pred_len, prefixes)"
   ]
  },
  {
   "cell_type": "code",
   "execution_count": null,
   "metadata": {},
   "outputs": [],
   "source": []
  }
 ],
 "metadata": {
  "kernelspec": {
   "display_name": "Python 3",
   "language": "python",
   "name": "python3"
  },
  "language_info": {
   "codemirror_mode": {
    "name": "ipython",
    "version": 3
   },
   "file_extension": ".py",
   "mimetype": "text/x-python",
   "name": "python",
   "nbconvert_exporter": "python",
   "pygments_lexer": "ipython3",
   "version": "3.7.3"
  }
 },
 "nbformat": 4,
 "nbformat_minor": 2
}
