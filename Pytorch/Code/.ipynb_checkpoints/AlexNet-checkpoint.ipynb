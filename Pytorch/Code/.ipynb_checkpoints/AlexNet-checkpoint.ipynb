{
 "cells": [
  {
   "cell_type": "code",
   "execution_count": 8,
   "metadata": {},
   "outputs": [],
   "source": [
    "#AlexNet\n",
    "import d2lzh as d2l\n",
    "from mxnet import gluon,init,nd\n",
    "from mxnet.gluon import data as gdata,nn\n",
    "import os\n",
    "import sys\n",
    "\n",
    "net = nn.Sequential()\n",
    "# 使⽤较⼤的11 x 11窗⼝来捕获物体。同时使⽤步幅4来较⼤幅度减⼩输出⾼和宽。这⾥使⽤的输出通\n",
    "# 道数⽐LeNet中的也要⼤很多\n",
    "net.add(nn.Conv2D(96,kernel_size=11,strides=4,activation='relu'),\n",
    "       nn.MaxPool2D(pool_size=3,strides=2),\n",
    "        # 减⼩卷积窗⼝，使⽤填充为2来使得输⼊与输出的⾼和宽⼀致，且增⼤输出通道数\n",
    "       nn.Conv2D(256,kernel_size=5,padding=2,activation='relu'),\n",
    "       nn.MaxPool2D(pool_size=3,strides=2),\n",
    "        # 连续3个卷积层，且使⽤更⼩的卷积窗⼝。除了最后的卷积层外，进⼀步增⼤了输出通道数。\n",
    "        # 前两个卷积层后不使⽤池化层来减⼩输⼊的⾼和宽\n",
    "       nn.Conv2D(384,kernel_size=3,padding=1,activation='relu'),\n",
    "       nn.Conv2D(384,kernel_size=3,padding =1,activation='relu'),\n",
    "       nn.Conv2D(256,kernel_size=3,padding=1,activation='relu'),\n",
    "       nn.MaxPool2D(pool_size=3,strides=2),\n",
    "      # 这⾥全连接层的输出个数⽐LeNet中的⼤数倍。使⽤丢弃层来缓解过拟合\n",
    "        nn.Dense(4096,activation='relu'),nn.Dropout(0.5),\n",
    "       nn.Dense(4096,activation='relu'),nn.Dropout(0.5),\n",
    "       nn.Dense(10))"
   ]
  },
  {
   "cell_type": "code",
   "execution_count": 9,
   "metadata": {},
   "outputs": [
    {
     "name": "stdout",
     "output_type": "stream",
     "text": [
      "conv10 output shape:\t (1, 96, 54, 54)\n",
      "pool6 output shape:\t (1, 96, 26, 26)\n",
      "conv11 output shape:\t (1, 256, 26, 26)\n",
      "pool7 output shape:\t (1, 256, 12, 12)\n",
      "conv12 output shape:\t (1, 384, 12, 12)\n",
      "conv13 output shape:\t (1, 384, 12, 12)\n",
      "conv14 output shape:\t (1, 256, 12, 12)\n",
      "pool8 output shape:\t (1, 256, 5, 5)\n",
      "dense6 output shape:\t (1, 4096)\n",
      "dropout4 output shape:\t (1, 4096)\n",
      "dense7 output shape:\t (1, 4096)\n",
      "dropout5 output shape:\t (1, 4096)\n",
      "dense8 output shape:\t (1, 10)\n"
     ]
    }
   ],
   "source": [
    "X = nd.random.uniform(shape=(1,1,224,224))\n",
    "net.initialize()\n",
    "for layer in net:\n",
    "    X = layer(X)\n",
    "    print(layer.name,'output shape:\\t',X.shape)"
   ]
  },
  {
   "cell_type": "code",
   "execution_count": null,
   "metadata": {},
   "outputs": [],
   "source": [
    "def load_data_fashion_mnist(batch_size,resize=None,root = os.path.join('~','.mxnet','datasets','fashion-mnist')):\n",
    "    root = os.path.expanduser(root)# 展开⽤⼾路径'~'\n",
    "    transformer = []\n",
    "    if resize:\n",
    "        transformer +=[gdata.vision.transforms.Resize(resize)]\n",
    "    transformer +=[gdata.vision.transforms.ToTensor()]\n",
    "    transformer = gdata.vision.transforms.Compose(transformer)\n",
    "    mnist_train = gdata.vision.FashionMNIST(root = root,train = True)\n",
    "    mnist_test = gdata.vision.FashionMNIST(root=root,train=False)\n",
    "    num_workers = 0 if sys.platform.startswith('win32') else 4\n",
    "    train_iter = gdata.DataLoader(\n",
    "        mnist_train.transform_first(transformer),batch_size,shuffle=True,\n",
    "        num_workers=num_workers\n",
    "    )\n",
    "    test_iter = gdata.DataLoader(\n",
    "        mnist_test.transform_first(transformer),batch_size,shuffle=False,\n",
    "        num_workers=num_workers\n",
    "    )\n",
    "    return train_iter,test_iter"
   ]
  }
 ],
 "metadata": {
  "kernelspec": {
   "display_name": "Python 3",
   "language": "python",
   "name": "python3"
  },
  "language_info": {
   "codemirror_mode": {
    "name": "ipython",
    "version": 3
   },
   "file_extension": ".py",
   "mimetype": "text/x-python",
   "name": "python",
   "nbconvert_exporter": "python",
   "pygments_lexer": "ipython3",
   "version": "3.7.3"
  }
 },
 "nbformat": 4,
 "nbformat_minor": 2
}
