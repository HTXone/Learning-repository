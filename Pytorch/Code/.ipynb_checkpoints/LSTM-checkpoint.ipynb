{
 "cells": [
  {
   "cell_type": "code",
   "execution_count": 1,
   "metadata": {},
   "outputs": [],
   "source": [
    "#LSTM\n",
    "import d2lzh as d2l\n",
    "from mxnet import nd\n",
    "from mxnet.gluon import rnn\n",
    "import zipfile\n",
    "\n",
    "def load_data_jay_lyrics():\n",
    "    \"\"\"Load the Jay Chou lyric data set (available in the Chinese book).\"\"\"\n",
    "    with zipfile.ZipFile('./data/jaychou_lyrics.txt.zip') as zin:\n",
    "        with zin.open('jaychou_lyrics.txt') as f:\n",
    "            corpus_chars = f.read().decode('utf-8')\n",
    "    corpus_chars = corpus_chars.replace('\\n', ' ').replace('\\r', ' ')\n",
    "    corpus_chars = corpus_chars[0:10000]\n",
    "    idx_to_char = list(set(corpus_chars))\n",
    "    char_to_idx = dict([(char, i) for i, char in enumerate(idx_to_char)])\n",
    "    vocab_size = len(char_to_idx)\n",
    "    corpus_indices = [char_to_idx[char] for char in corpus_chars]\n",
    "    return corpus_indices, char_to_idx, idx_to_char, vocab_size\n",
    "\n",
    "(corpus_indices,char_to_idx,idx_to_char,vocab_size) = load_data_jay_lyrics()"
   ]
  },
  {
   "cell_type": "code",
   "execution_count": 8,
   "metadata": {},
   "outputs": [],
   "source": [
    "num_inputs, num_hiddens, num_outputs = vocab_size,256,vocab_size\n",
    "ctx = d2l.try_gpu()\n",
    "\n",
    "def get_params():\n",
    "    def _one(shape):\n",
    "        return nd.random.normal(scale=0.01,shape=shape,ctx=ctx)\n",
    "    \n",
    "    def _three():\n",
    "        return (_one((num_inputs,num_hiddens)),\n",
    "                _one((num_hiddens,num_hiddens)),\n",
    "                nd.zeros(num_hiddens,ctx=ctx))\n",
    "    \n",
    "    W_xi,W_hi,b_i = _three()   #输入门参数\n",
    "    W_xf,W_hf,b_f = _three()   #遗忘门参数\n",
    "    W_xo,W_ho,b_o = _three()   #输出门参数\n",
    "    W_xc,W_hc,b_c = _three()   #候选记忆细胞参数\n",
    "    \n",
    "    #输出层参数\n",
    "    W_hq = _one((num_hiddens,num_outputs))\n",
    "    b_q = nd.zeros(num_outputs,ctx= ctx)\n",
    "    \n",
    "    #梯度\n",
    "    params = [W_xi, W_hi, b_i, W_xf, W_hf, b_f, W_xo, W_ho, b_o, W_xc, W_hc,\n",
    "                b_c, W_hq, b_q]\n",
    "    for param in params:\n",
    "        param.attach_grad()\n",
    "    return params\n",
    "\n",
    "    "
   ]
  },
  {
   "cell_type": "code",
   "execution_count": 9,
   "metadata": {},
   "outputs": [],
   "source": [
    "def init_lstm_state(batch_size,num_hiddens,ctx):\n",
    "    return (nd.zeros(shape=(batch_size,num_hiddens),ctx=ctx),\n",
    "            nd.zeros(shape=(batch_size,num_hiddens),ctx=ctx))\n",
    "#返回额外的形状为(批量⼤小, 隐藏单元个数)的值为0的记忆细胞。"
   ]
  },
  {
   "cell_type": "code",
   "execution_count": 13,
   "metadata": {},
   "outputs": [],
   "source": [
    "def lstm(inputs,state,params):\n",
    "    [W_xi, W_hi, b_i, W_xf, W_hf, b_f, W_xo, W_ho, b_o, W_xc, W_hc, b_c,\n",
    "        W_hq, b_q] = params\n",
    "    (H,C) = state\n",
    "    outputs = []\n",
    "    for X in inputs:\n",
    "        I = nd.sigmoid(nd.dot(X,W_xi)+nd.dot(H,W_hi)+b_i)\n",
    "        F = nd.sigmoid(nd.dot(X,W_xf)+nd.dot(H,W_hf)+b_f)\n",
    "        O = nd.sigmoid(nd.dot(X,W_xo)+nd.dot(H,W_ho)+b_o)\n",
    "        C_tilda = nd.tanh(nd.dot(X,W_xc)+nd.dot(H,W_hc)+b_c)\n",
    "        C = F*C+I*C_tilda\n",
    "        H = O * C.tanh()\n",
    "        Y = nd.dot(H,W_hq)+b_q\n",
    "        outputs.append(Y)\n",
    "    return outputs,(H,C)"
   ]
  },
  {
   "cell_type": "code",
   "execution_count": 14,
   "metadata": {},
   "outputs": [],
   "source": [
    "num_epochs, num_steps, batch_size, lr, clipping_theta = 160, 35, 32, 1e2, 1e-2\n",
    "pred_period, pred_len, prefixes = 40, 50, ['天空', '漂泊']\n",
    "\n"
   ]
  },
  {
   "cell_type": "code",
   "execution_count": 15,
   "metadata": {},
   "outputs": [
    {
     "name": "stdout",
     "output_type": "stream",
     "text": [
      "epoch 40, perplexity 208.965238, time 0.71 sec\n",
      " - 天空 我不的我 我不的我 我不的我 我不的我 我不的我 我不的我 我不的我 我不的我 我不的我 我不的我\n",
      " - 漂泊 我不的我 我不的我 我不的我 我不的我 我不的我 我不的我 我不的我 我不的我 我不的我 我不的我\n",
      "epoch 80, perplexity 65.617237, time 0.83 sec\n",
      " - 天空 我想你这你 我不要这样 我不要这样 我不要这样 我不要这样 我不要这样 我不要这样 我不要这样 我\n",
      " - 漂泊 我想你这你 我不要这样 我不要这样 我不要这样 我不要这样 我不要这样 我不要这样 我不要这样 我\n",
      "epoch 120, perplexity 15.426569, time 0.77 sec\n",
      " - 天空 我想你的你笑  你 你你的你着 我想 你想你的久笑 我想想你的微笑 想想要你 你不我 你不了 我想\n",
      " - 漂泊 我想你的你笑  你 你你的你着 我想 你想你的久笑 我想想你的微笑 想想要你 你不我 你不了 我想\n",
      "epoch 160, perplexity 4.015277, time 0.79 sec\n",
      " - 天空 我说啊 你来我 一壶是 在手的风热 老上苦 的只我 恨属的那信 老真盘 瞎谁了 什么都中 你人中中\n",
      " - 漂泊 我说你的爱笑 像你是你 你来一直热粥 配上几斤的牛肉 我说店小二三三 你些堂多了路山 双截棍了满棍\n"
     ]
    }
   ],
   "source": [
    "d2l.train_and_predict_rnn(lstm, get_params, init_lstm_state, num_hiddens,\n",
    "                            vocab_size, ctx, corpus_indices, idx_to_char,\n",
    "                            char_to_idx, False, num_epochs, num_steps, lr,\n",
    "                            clipping_theta, batch_size, pred_period, pred_len,\n",
    "                            prefixes)"
   ]
  },
  {
   "cell_type": "code",
   "execution_count": null,
   "metadata": {},
   "outputs": [],
   "source": []
  }
 ],
 "metadata": {
  "kernelspec": {
   "display_name": "Python 3",
   "language": "python",
   "name": "python3"
  },
  "language_info": {
   "codemirror_mode": {
    "name": "ipython",
    "version": 3
   },
   "file_extension": ".py",
   "mimetype": "text/x-python",
   "name": "python",
   "nbconvert_exporter": "python",
   "pygments_lexer": "ipython3",
   "version": "3.7.3"
  }
 },
 "nbformat": 4,
 "nbformat_minor": 2
}
