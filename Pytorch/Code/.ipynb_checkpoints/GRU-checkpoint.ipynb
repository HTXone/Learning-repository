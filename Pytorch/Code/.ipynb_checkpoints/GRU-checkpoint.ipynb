{
 "cells": [
  {
   "cell_type": "code",
   "execution_count": 2,
   "metadata": {},
   "outputs": [],
   "source": [
    "#GRU\n",
    "import d2lzh as d2l\n",
    "from mxnet import nd\n",
    "from mxnet.gluon import rnn\n",
    "import zipfile\n",
    "\n",
    "#加载数据集\n",
    "def load_data_jay_lyrics():\n",
    "    \"\"\"Load the Jay Chou lyric data set (available in the Chinese book).\"\"\"\n",
    "    with zipfile.ZipFile('./data/jaychou_lyrics.txt.zip') as zin:\n",
    "        with zin.open('jaychou_lyrics.txt') as f:\n",
    "            corpus_chars = f.read().decode('utf-8')\n",
    "    corpus_chars = corpus_chars.replace('\\n', ' ').replace('\\r', ' ')\n",
    "    corpus_chars = corpus_chars[0:10000]\n",
    "    idx_to_char = list(set(corpus_chars))\n",
    "    char_to_idx = dict([(char, i) for i, char in enumerate(idx_to_char)])\n",
    "    vocab_size = len(char_to_idx)\n",
    "    corpus_indices = [char_to_idx[char] for char in corpus_chars]\n",
    "    return corpus_indices, char_to_idx, idx_to_char, vocab_size\n",
    "\n",
    "(corpus_indices,char_to_idx,idx_to_char,vocab_size) = load_data_jay_lyrics()"
   ]
  },
  {
   "cell_type": "code",
   "execution_count": 10,
   "metadata": {},
   "outputs": [],
   "source": [
    "num_inputs, num_hiddens, num_outputs = vocab_size,256,vocab_size\n",
    "ctx = d2l.try_gpu()\n",
    "\n",
    "#数据初始化\n",
    "def get_params():\n",
    "    def _one(shape):\n",
    "        return nd.random.normal(scale=0.01,shape=shape,ctx=ctx)\n",
    "    \n",
    "    def _three():\n",
    "        return (_one((num_inputs,num_hiddens)),\n",
    "                _one((num_hiddens,num_hiddens)),\n",
    "                nd.zeros(num_hiddens,ctx = ctx))\n",
    "    \n",
    "    W_xz, W_hz,b_z = _three()    #更新门参数\n",
    "    W_xr, W_hr, b_r = _three()   #重置门参数\n",
    "    W_xh, W_hh, b_h = _three()   #候选隐藏状态参数\n",
    "    \n",
    "    #输出层\n",
    "    W_hq = _one((num_hiddens,num_outputs))\n",
    "    b_q = nd.zeros(num_outputs,ctx = ctx)\n",
    "    \n",
    "    #梯度\n",
    "    params = [W_xz, W_hz, b_z, W_xr, W_hr, b_r, W_xh, W_hh, b_h, W_hq, b_q]\n",
    "    \n",
    "    for param in params:\n",
    "        param.attach_grad()\n",
    "    return params\n"
   ]
  },
  {
   "cell_type": "code",
   "execution_count": 11,
   "metadata": {},
   "outputs": [],
   "source": [
    "def init_gru_state(batch_size,num_hiddens,ctx):    #初始化隐藏状态\n",
    "    return (nd.zeros(shape=(batch_size,num_hiddens),ctx=ctx),)\n"
   ]
  },
  {
   "cell_type": "code",
   "execution_count": 12,
   "metadata": {},
   "outputs": [],
   "source": [
    "#gru模型\n",
    "def gru(inputs,state,params):\n",
    "    W_xz, W_hz, b_z, W_xr, W_hr, b_r, W_xh, W_hh, b_h, W_hq, b_q = params\n",
    "    H, = state\n",
    "    outputs = []\n",
    "    for X in inputs:\n",
    "        Z = nd.sigmoid(nd.dot(X,W_xz)+nd.dot(H,W_hz)+b_z)  #更新门\n",
    "        R = nd.sigmoid(nd.dot(X,W_xr)+nd.dot(H,W_hr)+b_r)  #重置门\n",
    "        H_tilda = nd.tanh(nd.dot(X,W_xh)+nd.dot(R*H,W_hh)+b_h)   #候选\n",
    "        H = Z*H + (1-Z) * H_tilda     #隐藏状态\n",
    "        Y = nd.dot(H,W_hq) + b_q\n",
    "        outputs.append(Y)\n",
    "    return outputs,(H,)"
   ]
  },
  {
   "cell_type": "code",
   "execution_count": 13,
   "metadata": {},
   "outputs": [],
   "source": [
    "num_epochs, num_steps, batch_size, lr, clipping_theta = 160, 35, 32, 1e2, 1e-2\n",
    "pred_period, pred_len, prefixes = 40, 50, ['天空', '漂泊']\n"
   ]
  },
  {
   "cell_type": "code",
   "execution_count": 14,
   "metadata": {},
   "outputs": [
    {
     "name": "stdout",
     "output_type": "stream",
     "text": [
      "epoch 40, perplexity 150.373859, time 0.57 sec\n",
      " - 天空 我想你 我想你 我想你 我想你 我想你 我想你 我想你 我想你 我想你 我想你 我想你 我想你 我\n",
      " - 漂泊 我想你 我想你 我想你 我想你 我想你 我想你 我想你 我想你 我想你 我想你 我想你 我想你 我\n",
      "epoch 80, perplexity 33.292408, time 0.63 sec\n",
      " - 天空 一直我有你想你的怒火 我想要你想 我不要再想 我不要再想 我不要再想 我不要再想 我不要再想 我不\n",
      " - 漂泊 一直我有你想你的怒火 我想要你想 我不要再想 我不要再想 我不要再想 我不要再想 我不要再想 我不\n",
      "epoch 120, perplexity 6.007847, time 0.63 sec\n",
      " - 天空 一直走 我想就这样牵着你 别发好 心给我抬起  没有你烦我有多 难发你的话快幽默 想要 你想很久了\n",
      " - 漂泊 一直到 你想就这样着着我 别发抖 快给我抬起头 有话去对医药箱说 别怪我 别怪我 说你怎么不舍 我\n",
      "epoch 160, perplexity 1.768623, time 0.75 sec\n",
      " - 天空一直到一个a 想要和一只两著 折像的假动妈 帅呆了我 全场盯人防守 篮下禁区游走 快什么 干什么 干\n",
      " - 漂泊 一个我遇见你是一场悲剧 我想我这辈子注定一个人演戏 最后再一个人慢慢的回忆 没有了过去 我将往事抽\n"
     ]
    }
   ],
   "source": [
    "d2l.train_and_predict_rnn(gru, get_params, init_gru_state, num_hiddens,\n",
    "                            vocab_size, ctx, corpus_indices, idx_to_char,\n",
    "                            char_to_idx, False, num_epochs, num_steps, lr,\n",
    "                            clipping_theta, batch_size, pred_period, pred_len,\n",
    "                            prefixes)\n"
   ]
  },
  {
   "cell_type": "code",
   "execution_count": null,
   "metadata": {},
   "outputs": [],
   "source": []
  }
 ],
 "metadata": {
  "kernelspec": {
   "display_name": "Python 3",
   "language": "python",
   "name": "python3"
  },
  "language_info": {
   "codemirror_mode": {
    "name": "ipython",
    "version": 3
   },
   "file_extension": ".py",
   "mimetype": "text/x-python",
   "name": "python",
   "nbconvert_exporter": "python",
   "pygments_lexer": "ipython3",
   "version": "3.7.3"
  }
 },
 "nbformat": 4,
 "nbformat_minor": 2
}
